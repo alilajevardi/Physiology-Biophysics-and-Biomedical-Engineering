{
 "cells": [
  {
   "cell_type": "code",
   "execution_count": 1,
   "metadata": {},
   "outputs": [],
   "source": [
    "import numpy as np\n",
    "from scipy.integrate import solve_ivp\n",
    "import matplotlib.pyplot as plt"
   ]
  },
  {
   "cell_type": "code",
   "execution_count": 2,
   "metadata": {},
   "outputs": [],
   "source": [
    "# time = [0,5) in 1000 steps\n",
    "t = np.linspace(0., 5., 1000)\n",
    "\n",
    "G0 = 0\n",
    "I0 = 0\n",
    "y0 = [G0, I0]"
   ]
  },
  {
   "cell_type": "code",
   "execution_count": 3,
   "metadata": {},
   "outputs": [],
   "source": [
    "def gluc(t,y):\n",
    "    G, I = y\n",
    "    dG_dt = -2*G - 5*I + 1\n",
    "    dI_dt = + 0.2*G - 0.8*I  \n",
    "    return dG_dt, dI_dt"
   ]
  },
  {
   "cell_type": "code",
   "execution_count": 4,
   "metadata": {},
   "outputs": [],
   "source": [
    "# solve initial value system of ODEs via scipy.integrate.solve_ivp function thorugh Runge-Kutta 23 method\n",
    "# .y at end extracts results as definition of solve_ivp\n",
    "G, I = solve_ivp(gluc,(0,5),y0, method='RK23', t_eval=t).y"
   ]
  },
  {
   "cell_type": "code",
   "execution_count": 5,
   "metadata": {},
   "outputs": [
    {
     "data": {
      "image/png": "[encoded data removed]",
      "text/plain": [
       "<Figure size 432x288 with 1 Axes>"
      ]
     },
     "metadata": {
      "needs_background": "light"
     },
     "output_type": "display_data"
    }
   ],
   "source": [
    "#simple plot\n",
    "plt.plot(t, G, 'blue', t, I, 'red');"
   ]
  },
  {
   "cell_type": "code",
   "execution_count": null,
   "metadata": {},
   "outputs": [],
   "source": []
  }
 ],
 "metadata": {
  "kernelspec": {
   "display_name": "Python 3",
   "language": "python",
   "name": "python3"
  },
  "language_info": {
   "codemirror_mode": {
    "name": "ipython",
    "version": 3
   },
   "file_extension": ".py",
   "mimetype": "text/x-python",
   "name": "python",
   "nbconvert_exporter": "python",
   "pygments_lexer": "ipython3",
   "version": "3.7.4"
  }
 },
 "nbformat": 4,
 "nbformat_minor": 4
}
