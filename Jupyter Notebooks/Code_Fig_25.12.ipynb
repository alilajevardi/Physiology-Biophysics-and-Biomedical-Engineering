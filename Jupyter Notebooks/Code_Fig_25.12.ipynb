{
 "cells": [
  {
   "cell_type": "code",
   "execution_count": 1,
   "metadata": {},
   "outputs": [],
   "source": [
    "import numpy as np\n",
    "from scipy.integrate import solve_ivp\n",
    "import matplotlib.pyplot as plt"
   ]
  },
  {
   "cell_type": "code",
   "execution_count": 2,
   "metadata": {},
   "outputs": [],
   "source": [
    "# time = [0,50) in 100 steps\n",
    "t = np.linspace(0., 50., 100)\n",
    "\n",
    "k1 = 0.84\n",
    "k2 = 0.01\n",
    "k3 = 0.08\n",
    "k4 = 1.68\n",
    "k5 = 0.02\n",
    "B1 = 15\n",
    "B2 = 0\n",
    "B3 = 0\n",
    "\n",
    "I0 = 81.1\n",
    "G0 = 6820\n",
    "H0 = 681.9\n",
    "y0 = [I0, G0, H0]"
   ]
  },
  {
   "cell_type": "code",
   "execution_count": 3,
   "metadata": {},
   "outputs": [],
   "source": [
    "def riggs(t,y):\n",
    "    I, G, H = y\n",
    "    dI_dt = -(k1+k4)*I + k3*H + B1\n",
    "    dG_dt = k1*I -k2*G + B2\n",
    "    dH_dt = k2*G - (k3+k5)*H +B3 \n",
    "    return dI_dt, dG_dt, dH_dt"
   ]
  },
  {
   "cell_type": "code",
   "execution_count": 4,
   "metadata": {},
   "outputs": [],
   "source": [
    "# solve initial value system of ODEs via scipy.integrate.solve_ivp function thorugh Runge-Kutta 23 method\n",
    "# .y at end extracts results as definition of solve_ivp\n",
    "I, G, H = solve_ivp(riggs,(0,50),y0, method='RK23', t_eval=t).y"
   ]
  },
  {
   "cell_type": "code",
   "execution_count": 5,
   "metadata": {},
   "outputs": [
    {
     "data": {
      "image/png": "[encoded data removed]",
      "text/plain": [
       "<Figure size 432x288 with 1 Axes>"
      ]
     },
     "metadata": {
      "needs_background": "light"
     },
     "output_type": "display_data"
    }
   ],
   "source": [
    "#simple plot\n",
    "plt.plot(t, I, 'blue', t, G, 'red', t, H, 'purple');"
   ]
  },
  {
   "cell_type": "code",
   "execution_count": null,
   "metadata": {},
   "outputs": [],
   "source": []
  }
 ],
 "metadata": {
  "kernelspec": {
   "display_name": "Python 3",
   "language": "python",
   "name": "python3"
  },
  "language_info": {
   "codemirror_mode": {
    "name": "ipython",
    "version": 3
   },
   "file_extension": ".py",
   "mimetype": "text/x-python",
   "name": "python",
   "nbconvert_exporter": "python",
   "pygments_lexer": "ipython3",
   "version": "3.7.4"
  }
 },
 "nbformat": 4,
 "nbformat_minor": 4
}
